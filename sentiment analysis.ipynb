{
 "cells": [
  {
   "cell_type": "code",
   "execution_count": 1,
   "metadata": {},
   "outputs": [],
   "source": [
    "text=open('info.txt', encoding='utf-8').read() #utf-8 because the blogs and twitter posts have this type of encoding"
   ]
  },
  {
   "cell_type": "code",
   "execution_count": 2,
   "metadata": {},
   "outputs": [
    {
     "name": "stdout",
     "output_type": "stream",
     "text": [
      "I love Python! it is Fun.\n"
     ]
    }
   ],
   "source": [
    "print(text)"
   ]
  },
  {
   "cell_type": "code",
   "execution_count": 3,
   "metadata": {},
   "outputs": [
    {
     "name": "stdout",
     "output_type": "stream",
     "text": [
      "i love python! it is fun.\n"
     ]
    }
   ],
   "source": [
    "#converting the letters in lowercase\n",
    "lower_case=text.lower()\n",
    "print(lower_case)"
   ]
  },
  {
   "cell_type": "code",
   "execution_count": 4,
   "metadata": {},
   "outputs": [
    {
     "name": "stdout",
     "output_type": "stream",
     "text": [
      "!\"#$%&'()*+,-./:;<=>?@[\\]^_`{|}~\n",
      "i love python it is fun\n"
     ]
    }
   ],
   "source": [
    "#removing punctuations like .'!'\n",
    "import string\n",
    "print(string.punctuation) #need to remove all these punctuations\n",
    "#first parameter is the list of characters that need to be replaced\n",
    "#second parameter is the list of characters with which the characyers need to be replaced\n",
    "#third paramter is the list of characters that needs to be deleted\n",
    "cleaned_text=lower_case.translate(str.maketrans('', '', string.punctuation)) #string without punctuations #str.maketrans() is a three parameter function and we do not need first and second parameters therefore we are keeping it blank\n",
    "print(cleaned_text)"
   ]
  },
  {
   "cell_type": "code",
   "execution_count": 5,
   "metadata": {},
   "outputs": [
    {
     "name": "stdout",
     "output_type": "stream",
     "text": [
      "['i', 'love', 'python', 'it', 'is', 'fun']\n"
     ]
    }
   ],
   "source": [
    "#tokenization and stop words\n",
    "#tokenization: how to break the sentence in words and we break the sentence into words and store these words in list then it is known as tokenization\n",
    "\n",
    "tokenized_words=cleaned_text.split()\n",
    "print(tokenized_words)"
   ]
  },
  {
   "cell_type": "code",
   "execution_count": 6,
   "metadata": {},
   "outputs": [
    {
     "name": "stdout",
     "output_type": "stream",
     "text": [
      "['love', 'python', 'fun']\n"
     ]
    }
   ],
   "source": [
    "#stop words are words that do not add any meaning to sentence.\n",
    "stop_words=[\"i\", \"me\", \"my\", \"myself\", \"we\", \"our\", \"ours\", \"ourselves\", \"you\", \"your\", \"yours\", \"yourself\",\n",
    "              \"yourselves\", \"he\", \"him\", \"his\", \"himself\", \"she\", \"her\", \"hers\", \"herself\", \"it\", \"its\", \"itself\",\n",
    "              \"they\", \"them\", \"their\", \"theirs\", \"themselves\", \"what\", \"which\", \"who\", \"whom\", \"this\", \"that\", \"these\",\n",
    "              \"those\", \"am\", \"is\", \"are\", \"was\", \"were\", \"be\", \"been\", \"being\", \"have\", \"has\", \"had\", \"having\", \"do\",\n",
    "              \"does\", \"did\", \"doing\", \"a\", \"an\", \"the\", \"and\", \"but\", \"if\", \"or\", \"because\", \"as\", \"until\", \"while\",\n",
    "              \"of\", \"at\", \"by\", \"for\", \"with\", \"about\", \"against\", \"between\", \"into\", \"through\", \"during\", \"before\",\n",
    "              \"after\", \"above\", \"below\", \"to\", \"from\", \"up\", \"down\", \"in\", \"out\", \"on\", \"off\", \"over\", \"under\", \"again\",\n",
    "              \"further\", \"then\", \"once\", \"here\", \"there\", \"when\", \"where\", \"why\", \"how\", \"all\", \"any\", \"both\", \"each\",\n",
    "              \"few\", \"more\", \"most\", \"other\", \"some\", \"such\", \"no\", \"nor\", \"not\", \"only\", \"own\", \"same\", \"so\", \"than\",\n",
    "              \"too\", \"very\", \"s\", \"t\", \"can\", \"will\", \"just\", \"don\", \"should\", \"now\"]\n",
    "#in NLTK the stop words list is provided but here i have copied these from someone code in github\n",
    "final_words = []\n",
    "for word in tokenized_words:\n",
    "    if word not in stop_words:    #if word is not in stop words then put it in finalized words else neglect the word\n",
    "        final_words.append(word)\n",
    "print(final_words)"
   ]
  },
  {
   "cell_type": "code",
   "execution_count": 7,
   "metadata": {},
   "outputs": [
    {
     "name": "stdout",
     "output_type": "stream",
     "text": [
      "['love', 'excited']\n"
     ]
    }
   ],
   "source": [
    "#algorithm for sentiment analysis \n",
    "#NLP emotional analyser\n",
    "#emotion.text contains emotions related to different words\n",
    "#Algorithm:\n",
    "#1. Check if the word in the final_word list is present in emotions.txt\n",
    "#2. If word is present then add the emotion to emotion_list\n",
    "#3. count each emotion in the emotion list\n",
    "#with open('emotions.txt', 'r') as file:  #save the emotions .txt in file\n",
    "#    for line in file:\n",
    "#        print(line)\n",
    "emotion_list = []\n",
    "with open('emotions.txt', 'r') as file:\n",
    "    for line in file:\n",
    "        clear_line = line.replace('\\n', '').replace(',','').replace(\"'\", '').strip() #replace new line with nothing\n",
    "        #strip for removing the spaces before and after a word\n",
    "        word, emotion=clear_line.split(': ')\n",
    "        if word in final_words:\n",
    "            emotion_list.append(emotion)\n",
    "print(emotion_list)\n",
    "            \n",
    "        "
   ]
  },
  {
   "cell_type": "code",
   "execution_count": 8,
   "metadata": {},
   "outputs": [
    {
     "name": "stdout",
     "output_type": "stream",
     "text": [
      "Counter({'love': 1, 'excited': 1})\n"
     ]
    }
   ],
   "source": [
    "from collections import Counter\n",
    "w = Counter(emotion_list) #Counter() counts the frequemcy of each element in the list\n",
    "print(w)\n",
    "\n",
    "        "
   ]
  },
  {
   "cell_type": "code",
   "execution_count": 9,
   "metadata": {},
   "outputs": [
    {
     "data": {
      "image/png": "[encoded data removed]",
      "text/plain": [
       "<Figure size 432x288 with 1 Axes>"
      ]
     },
     "metadata": {
      "needs_background": "light"
     },
     "output_type": "display_data"
    }
   ],
   "source": [
    "import matplotlib.pyplot as plt\n",
    "fig, ax1 = plt.subplots()\n",
    "ax1.bar(w.keys(), w.values()) #resize the axis according to the values\n",
    "fig.autofmt_xdate() \n",
    "plt.savefig('no_of_emotions_graph.png')\n",
    "plt.show()\n"
   ]
  },
  {
   "cell_type": "code",
   "execution_count": null,
   "metadata": {},
   "outputs": [],
   "source": []
  },
  {
   "cell_type": "code",
   "execution_count": 10,
   "metadata": {
    "scrolled": true
   },
   "outputs": [
    {
     "name": "stdout",
     "output_type": "stream",
     "text": [
      "Requirement already satisfied: GetOldTweets3 in c:\\users\\anjali\\appdata\\local\\programs\\python\\python38\\lib\\site-packages (0.0.11)Note: you may need to restart the kernel to use updated packages.\n",
      "Requirement already satisfied: pyquery>=1.2.10 in c:\\users\\anjali\\appdata\\local\\programs\\python\\python38\\lib\\site-packages (from GetOldTweets3) (1.4.1)\n",
      "Requirement already satisfied: lxml>=3.5.0 in c:\\users\\anjali\\appdata\\local\\programs\\python\\python38\\lib\\site-packages (from GetOldTweets3) (4.5.2)\n",
      "Requirement already satisfied: cssselect>0.7.9 in c:\\users\\anjali\\appdata\\local\\programs\\python\\python38\\lib\\site-packages (from pyquery>=1.2.10->GetOldTweets3) (1.1.0)\n",
      "\n"
     ]
    }
   ],
   "source": [
    "pip install GetOldTweets3"
   ]
  },
  {
   "cell_type": "code",
   "execution_count": 11,
   "metadata": {},
   "outputs": [
    {
     "name": "stdout",
     "output_type": "stream",
     "text": [
      "Requirement already satisfied: nltk in c:\\users\\anjali\\appdata\\local\\programs\\python\\python38\\lib\\site-packages (3.5)Note: you may need to restart the kernel to use updated packages.\n",
      "Requirement already satisfied: click in c:\\users\\anjali\\appdata\\local\\programs\\python\\python38\\lib\\site-packages (from nltk) (7.1.2)\n",
      "Requirement already satisfied: joblib in c:\\users\\anjali\\appdata\\local\\programs\\python\\python38\\lib\\site-packages (from nltk) (0.16.0)\n",
      "Requirement already satisfied: regex in c:\\users\\anjali\\appdata\\local\\programs\\python\\python38\\lib\\site-packages (from nltk) (2020.10.11)\n",
      "Requirement already satisfied: tqdm in c:\\users\\anjali\\appdata\\local\\programs\\python\\python38\\lib\\site-packages (from nltk) (4.50.2)\n",
      "\n"
     ]
    }
   ],
   "source": [
    "pip install nltk"
   ]
  },
  {
   "cell_type": "code",
   "execution_count": 12,
   "metadata": {
    "scrolled": true
   },
   "outputs": [
    {
     "name": "stdout",
     "output_type": "stream",
     "text": [
      "Requirement already satisfied: corpus in c:\\users\\anjali\\appdata\\local\\programs\\python\\python38\\lib\\site-packages (0.4.2)Note: you may need to restart the kernel to use updated packages.\n",
      "\n"
     ]
    }
   ],
   "source": [
    "pip install corpus"
   ]
  },
  {
   "cell_type": "code",
   "execution_count": 13,
   "metadata": {},
   "outputs": [],
   "source": [
    "import nltk"
   ]
  },
  {
   "cell_type": "code",
   "execution_count": 15,
   "metadata": {},
   "outputs": [
    {
     "name": "stdout",
     "output_type": "stream",
     "text": [
      "showing info https://raw.githubusercontent.com/nltk/nltk_data/gh-pages/index.xml\n"
     ]
    },
    {
     "data": {
      "text/plain": [
       "True"
      ]
     },
     "execution_count": 15,
     "metadata": {},
     "output_type": "execute_result"
    }
   ],
   "source": [
    "nltk.download()"
   ]
  },
  {
   "cell_type": "code",
   "execution_count": null,
   "metadata": {},
   "outputs": [],
   "source": [
    "from nltk.tokenize import "
   ]
  }
 ],
 "metadata": {
  "kernelspec": {
   "display_name": "Python 3",
   "language": "python",
   "name": "python3"
  },
  "language_info": {
   "codemirror_mode": {
    "name": "ipython",
    "version": 3
   },
   "file_extension": ".py",
   "mimetype": "text/x-python",
   "name": "python",
   "nbconvert_exporter": "python",
   "pygments_lexer": "ipython3",
   "version": "3.8.5"
  }
 },
 "nbformat": 4,
 "nbformat_minor": 4
}
